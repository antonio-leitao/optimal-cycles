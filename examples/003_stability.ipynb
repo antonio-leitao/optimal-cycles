{
 "cells": [
  {
   "cell_type": "code",
   "execution_count": 1,
   "id": "76426efa-cc73-451d-be9f-7993b95a471a",
   "metadata": {},
   "outputs": [
    {
     "data": {
      "image/png": "[encoded data removed]",
      "text/plain": [
       "<Figure size 640x480 with 1 Axes>"
      ]
     },
     "metadata": {},
     "output_type": "display_data"
    }
   ],
   "source": [
    "import numpy as np\n",
    "import recycle as re\n",
    "import matplotlib.pyplot as plt\n",
    "from ripser import Rips\n",
    "from persim import plot_diagrams\n",
    "from scipy.linalg import svdvals\n",
    "\n",
    "x = np.linspace(0, 8 * np.pi, 100)\n",
    "points = np.c_[np.sin(x), np.cos(x)]\n",
    "circle = points + np.random.normal(0, 0.1, size=(points.shape))\n",
    "\n",
    "plt.scatter(circle[:, 0], circle[:, 1])\n",
    "plt.axis(\"square\")\n",
    "plt.show()\n"
   ]
  },
  {
   "cell_type": "code",
   "execution_count": 2,
   "id": "29d3e83c-cdf2-4556-a086-91850b03f754",
   "metadata": {},
   "outputs": [],
   "source": [
    "# GET THE INITIAL REPRESENTATIVE\n",
    "def boundary_and_representative(points,max_edge_length,slack_factor = 1):\n",
    "    dimension = 2\n",
    "    #max_edge_length = death * 1.01  # give a bit of slack\n",
    "    assert slack_factor <= 1\n",
    "    \n",
    "    gudhi_complex = re.core.create_simplicial_complex(points, max_edge_length, dimension)\n",
    "    (\n",
    "        representative,\n",
    "        boundary_map,\n",
    "        reduced_boundary_base,\n",
    "        (birth_simplex,death_simplex)\n",
    "    ) = re.core.get_representative_and_complex(gudhi_complex, dimension)\n",
    "    \n",
    "    # Get the actual values of birth and death\n",
    "    birth,death = gudhi_complex.filtration(birth_simplex),gudhi_complex.filtration(death_simplex)\n",
    "    min_persistence = (death - birth) * slack_factor\n",
    "    \n",
    "    order_function = lambda s: (gudhi_complex.filtration(s), s)\n",
    "    # ISOLATED\n",
    "    np1_simplices = sorted(\n",
    "        {\n",
    "            simplex\n",
    "            for simplex in reduced_boundary_base\n",
    "            if gudhi_complex.filtration(simplex) <= (death - min_persistence)*1.01 #slack for rounding errors\n",
    "        },\n",
    "        key=order_function,\n",
    "    )\n",
    "    n_simplices = sorted(\n",
    "        {\n",
    "            tuple(sorted(simplex))\n",
    "            for simplex, radius in gudhi_complex.get_filtration()\n",
    "            if len(simplex) == dimension and radius <= (death - min_persistence)*1.01 #slack for rounding errors\n",
    "        },\n",
    "        key=order_function,\n",
    "    )\n",
    "    nm1_simplices = sorted(\n",
    "        {\n",
    "            tuple(sorted(simplex))\n",
    "            for simplex, radius in gudhi_complex.get_filtration()\n",
    "            if len(simplex) == dimension - 1 and radius <= (death - min_persistence)*1.01 #slack for rounding errors\n",
    "        },\n",
    "        key=order_function,\n",
    "    )\n",
    "            \n",
    "    x_orig = re.core.lift_representative(representative, nm1_simplices, n_simplices)\n",
    "    boundary_matrix = re.core.build_boundary_matrix(n_simplices, np1_simplices)\n",
    "    return boundary_matrix, x_orig, n_simplices, representative, (birth_simplex,death_simplex)"
   ]
  },
  {
   "cell_type": "code",
   "execution_count": 3,
   "id": "0501e9d8-f305-4136-8c9a-227004e8e097",
   "metadata": {},
   "outputs": [],
   "source": [
    "#helper function to create the length weight matrix\n",
    "def edge_length_function(points):\n",
    "    def edge_length(simp1, simp2):\n",
    "        if simp1 == simp2:\n",
    "            return np.linalg.norm(points[simp1[0]] - points[simp1[1]])\n",
    "        else:\n",
    "            return 0\n",
    "\n",
    "    return edge_length\n",
    "\n",
    "def optimize_cycle(W, x_orig, boundary_matrix, n_simplices):\n",
    "    # Run optimization\n",
    "    x_min, status, objective_value = re.core.find_minimal_homologous_cycle(\n",
    "        boundary_matrix, x_orig, W, use_gurobi=True,verbose=False\n",
    "    )\n",
    "    print(\"Objective value (L1 norm of x):\", objective_value)\n",
    "    min_cycle = set(\n",
    "        [n_simplices[index] for index in np.argwhere(~np.isclose(x_min, 0)).flatten()]\n",
    "    )  # be carefull here with values close to zero, add a tolerance parameter\n",
    "    return min_cycle\n",
    "\n",
    "def barcode_biggest_cycle(diags):\n",
    "    persistence = diags[1][:, 1] - diags[1][:, 0]\n",
    "    cycle = np.argmax(persistence)\n",
    "    birth, death = diags[1][cycle]\n",
    "    return birth,death"
   ]
  },
  {
   "cell_type": "code",
   "execution_count": 4,
   "id": "313b7061-adb5-4440-bf75-2deb4e1efe20",
   "metadata": {},
   "outputs": [],
   "source": [
    "import contextlib\n",
    "import os\n",
    "def compute_cycles(rips,circle, noise,slack):\n",
    "    if noise is not None:\n",
    "        perturbed_points = circle+np.random.normal(0, noise, size=(circle.shape))\n",
    "    else:\n",
    "        perturbed_points = circle\n",
    "    diags = rips.fit_transform(perturbed_points)\n",
    "    _,death = barcode_biggest_cycle(diags)\n",
    "    max_edge_length = death*1.01\n",
    "    boundary_matrix,x_orig,n_simplices,_,_ = boundary_and_representative(perturbed_points,\n",
    "                                                                        max_edge_length,\n",
    "                                                                        slack_factor=slack)\n",
    "    W = re.core.create_weight_matrix(n_simplices, edge_length_function(perturbed_points))\n",
    "    #surpress output\n",
    "    with contextlib.redirect_stdout(open(os.devnull, 'w')):\n",
    "        len_cycle = optimize_cycle(W, x_orig, boundary_matrix, n_simplices)\n",
    "        l0_cycle = optimize_cycle(None, x_orig, boundary_matrix, n_simplices)\n",
    "    return len_cycle,l0_cycle"
   ]
  },
  {
   "cell_type": "code",
   "execution_count": 6,
   "id": "cc30632f-6fa0-4f6a-ba33-1db7c7f13623",
   "metadata": {},
   "outputs": [
    {
     "name": "stdout",
     "output_type": "stream",
     "text": [
      "Rips(maxdim=1, thresh=inf, coeff=2, do_cocycles=False, n_perm = None, verbose=True)\n"
     ]
    },
    {
     "data": {
      "application/vnd.jupyter.widget-view+json": {
       "model_id": "aed2827acb944553b120b9f542c548b3",
       "version_major": 2,
       "version_minor": 0
      },
      "text/plain": [
       "Perturb=0.01, Slack=1:   0%|          | 0/100 [00:00<?, ?iter/s]"
      ]
     },
     "metadata": {},
     "output_type": "display_data"
    },
    {
     "data": {
      "application/vnd.jupyter.widget-view+json": {
       "model_id": "ecad50336e2d4678928e301c8b7523e0",
       "version_major": 2,
       "version_minor": 0
      },
      "text/plain": [
       "Perturb=0.01, Slack=0.5:   0%|          | 0/100 [00:00<?, ?iter/s]"
      ]
     },
     "metadata": {},
     "output_type": "display_data"
    },
    {
     "data": {
      "application/vnd.jupyter.widget-view+json": {
       "model_id": "c7706130456645e78d4de3b17560d596",
       "version_major": 2,
       "version_minor": 0
      },
      "text/plain": [
       "Perturb=0.01, Slack=0.25:   0%|          | 0/100 [00:00<?, ?iter/s]"
      ]
     },
     "metadata": {},
     "output_type": "display_data"
    },
    {
     "data": {
      "application/vnd.jupyter.widget-view+json": {
       "model_id": "c1ba65aca8684e409e1b30c2b52c53f9",
       "version_major": 2,
       "version_minor": 0
      },
      "text/plain": [
       "Perturb=0.01, Slack=0.1:   0%|          | 0/100 [00:00<?, ?iter/s]"
      ]
     },
     "metadata": {},
     "output_type": "display_data"
    },
    {
     "data": {
      "application/vnd.jupyter.widget-view+json": {
       "model_id": "c45dd29480a54cdb9fd37525c8ec3277",
       "version_major": 2,
       "version_minor": 0
      },
      "text/plain": [
       "Perturb=0.05, Slack=1:   0%|          | 0/100 [00:00<?, ?iter/s]"
      ]
     },
     "metadata": {},
     "output_type": "display_data"
    },
    {
     "data": {
      "application/vnd.jupyter.widget-view+json": {
       "model_id": "51b93cea7101471d81ac94f868db58ed",
       "version_major": 2,
       "version_minor": 0
      },
      "text/plain": [
       "Perturb=0.05, Slack=0.5:   0%|          | 0/100 [00:00<?, ?iter/s]"
      ]
     },
     "metadata": {},
     "output_type": "display_data"
    },
    {
     "data": {
      "application/vnd.jupyter.widget-view+json": {
       "model_id": "d16222c9af474a5ab49d2df66881140e",
       "version_major": 2,
       "version_minor": 0
      },
      "text/plain": [
       "Perturb=0.05, Slack=0.25:   0%|          | 0/100 [00:00<?, ?iter/s]"
      ]
     },
     "metadata": {},
     "output_type": "display_data"
    },
    {
     "data": {
      "application/vnd.jupyter.widget-view+json": {
       "model_id": "a724f71f4e7d417aa375755e71455a7b",
       "version_major": 2,
       "version_minor": 0
      },
      "text/plain": [
       "Perturb=0.05, Slack=0.1:   0%|          | 0/100 [00:00<?, ?iter/s]"
      ]
     },
     "metadata": {},
     "output_type": "display_data"
    },
    {
     "data": {
      "application/vnd.jupyter.widget-view+json": {
       "model_id": "c25aedb56a854e1ca872c88dfe8d69cb",
       "version_major": 2,
       "version_minor": 0
      },
      "text/plain": [
       "Perturb=0.1, Slack=1:   0%|          | 0/100 [00:00<?, ?iter/s]"
      ]
     },
     "metadata": {},
     "output_type": "display_data"
    },
    {
     "data": {
      "application/vnd.jupyter.widget-view+json": {
       "model_id": "b8249a51c3804d278e7b8e5ef5171698",
       "version_major": 2,
       "version_minor": 0
      },
      "text/plain": [
       "Perturb=0.1, Slack=0.5:   0%|          | 0/100 [00:00<?, ?iter/s]"
      ]
     },
     "metadata": {},
     "output_type": "display_data"
    },
    {
     "data": {
      "application/vnd.jupyter.widget-view+json": {
       "model_id": "773b435c8d3e4aad8b5480ec0db0db04",
       "version_major": 2,
       "version_minor": 0
      },
      "text/plain": [
       "Perturb=0.1, Slack=0.25:   0%|          | 0/100 [00:00<?, ?iter/s]"
      ]
     },
     "metadata": {},
     "output_type": "display_data"
    },
    {
     "data": {
      "application/vnd.jupyter.widget-view+json": {
       "model_id": "94dd1cdef7b1417d8aff4a9537a341ba",
       "version_major": 2,
       "version_minor": 0
      },
      "text/plain": [
       "Perturb=0.1, Slack=0.1:   0%|          | 0/100 [00:00<?, ?iter/s]"
      ]
     },
     "metadata": {},
     "output_type": "display_data"
    }
   ],
   "source": [
    "from tqdm.notebook import tqdm\n",
    "results = []\n",
    "rips= Rips()\n",
    "N_ITERATIONS = 100\n",
    "for PERTURB_AMOUNT in [0.01,0.05,0.1]:\n",
    "    for SLACK in [1, 0.5,0.25,0.1]:\n",
    "        len_cycles,l0_cycles = [],[]\n",
    "         # Progress bar for the inner loop\n",
    "        with tqdm(range(N_ITERATIONS), desc=f\"Perturb={PERTURB_AMOUNT}, Slack={SLACK}\", unit=\"iter\") as pbar:\n",
    "            for _ in pbar:\n",
    "                # Simulate computation\n",
    "                len_cycle, l0_cycle = compute_cycles(rips,circle, PERTURB_AMOUNT, SLACK)\n",
    "                len_cycles.append(len_cycle)\n",
    "                l0_cycles.append(l0_cycle)\n",
    "        results.append({\n",
    "            \"noise\": PERTURB_AMOUNT,\n",
    "            \"slack\": SLACK,\n",
    "            \"objective\": \"len\",\n",
    "            \"cycles\": len_cycles,\n",
    "        })\n",
    "        \n",
    "        results.append({\n",
    "            \"noise\": PERTURB_AMOUNT,\n",
    "            \"slack\": SLACK,\n",
    "            \"objective\": \"l0\",\n",
    "            \"cycles\": l0_cycles,\n",
    "        })"
   ]
  },
  {
   "cell_type": "code",
   "execution_count": 14,
   "id": "907acd27-f0cd-41ce-b24d-6885ae1a103c",
   "metadata": {},
   "outputs": [],
   "source": [
    "#BASELINE\n",
    "#baselines\n",
    "len_baseline,l0_baseline={},{}\n",
    "for SLACK in [1,0.5,0.25,0.1]:\n",
    "    len_cycle, l0_cycle = compute_cycles(rips,circle, None, SLACK)\n",
    "    len_baseline[SLACK] = len_cycle\n",
    "    l0_baseline[SLACK] = l0_cycle"
   ]
  },
  {
   "cell_type": "code",
   "execution_count": 8,
   "id": "dc1198df-4fae-43d4-9a31-2bea650fef27",
   "metadata": {},
   "outputs": [],
   "source": [
    "import pandas as pd\n",
    "df = pd.DataFrame(results)"
   ]
  },
  {
   "cell_type": "code",
   "execution_count": 46,
   "id": "625cdc26-308a-43bd-938c-b7b97a606740",
   "metadata": {},
   "outputs": [],
   "source": [
    "from collections import Counter\n",
    "def get_stability_distribution(original_selection, new_selections):\n",
    "    # Convert original selection to set for faster lookup\n",
    "    original_items = set(original_selection)\n",
    "    n_trials = len(new_selections)\n",
    "    \n",
    "    # Count appearances of each original item\n",
    "    item_counts = Counter()\n",
    "    for new_selection in new_selections:\n",
    "        # Only count items that were in original selection\n",
    "        for item in set(new_selection) & original_items:\n",
    "            item_counts[item] += 1\n",
    "    \n",
    "    # Calculate percentage for each original item\n",
    "    stability_dist = {\n",
    "        item: (item_counts[item] / n_trials)\n",
    "        for item in original_items\n",
    "    }\n",
    "    \n",
    "    return stability_dist\n",
    "\n",
    "def compare_sets(set_A, set_list, norm):\n",
    "    return [norm(set_A,set_B) for set_B in set_list]\n",
    "\n",
    "def get_intersection_over_union(original_selection, new_selections):\n",
    "    # Convert original selection to set for faster lookup\n",
    "    original = set(original_selection)\n",
    "    n_trials = len(new_selections)\n",
    "    dist = []\n",
    "    for selection in new_selections:\n",
    "        selection = set(selection)\n",
    "        iou = len(original.intersection(selection))/len(original.union(selection)) \n",
    "        dist.append(iou)\n",
    "    \n",
    "    return dist"
   ]
  },
  {
   "cell_type": "code",
   "execution_count": 183,
   "id": "637d7a34-8a27-455c-9bd4-f04de03099e6",
   "metadata": {},
   "outputs": [
    {
     "data": {
      "image/png": "[encoded data removed]",
      "text/plain": [
       "<Figure size 1000x300 with 1 Axes>"
      ]
     },
     "metadata": {},
     "output_type": "display_data"
    }
   ],
   "source": [
    "import matplotlib.pyplot as plt\n",
    "import numpy as np\n",
    "import matplotlib.patches as mpatches\n",
    "\n",
    "# Initialize lists for the data\n",
    "stability_data = {\n",
    "    1: [],\n",
    "    0.5: [],\n",
    "    0.25: [],\n",
    "    0.1: []\n",
    "}\n",
    "\n",
    "# Iterate through unique noise values\n",
    "x_axis = np.round(df[\"noise\"].unique(), 2)\n",
    "positions = np.arange(len(x_axis))\n",
    "\n",
    "# Define offsets and colors for boxplots\n",
    "slack_values = [1, 0.5, 0.25, 0.1]\n",
    "offsets = [-0.15, -0.05, 0.05, 0.15]  # Adjust offsets for spacing\n",
    "colors = ['#FF0059', '#0283F8', '#00C49A', '#FFA500']  # Define unique colors for each slack value\n",
    "labels = [\"Full Persistence\", \"Half Persistence\", \"Quarter Persistence\", \"Tenth Persistence\"]\n",
    "\n",
    "# Extract stability data for each slack value\n",
    "for noise in x_axis:\n",
    "    for slack in slack_values:\n",
    "        cycles = df[\n",
    "            (np.isclose(df['noise'], noise)) &\n",
    "            (df['slack'] == slack) &\n",
    "            (df['objective'] == \"len\")\n",
    "        ]['cycles'].tolist()[0]\n",
    "\n",
    "        stability_data[slack].append(\n",
    "            list(get_stability_distribution(len_baseline[slack], cycles).values())\n",
    "        )\n",
    "        #stability_data[slack].append(compare_sets(len_baseline[slack], cycles,normalized_iou))\n",
    "\n",
    "# Plot configuration\n",
    "plt.figure(figsize=(10, 3))\n",
    "for slack, offset, color in zip(slack_values, offsets, colors):\n",
    "    # Plot boxplots\n",
    "    box_plot = plt.boxplot(\n",
    "        stability_data[slack],\n",
    "        positions=positions + offset,\n",
    "        widths=0.08,\n",
    "        patch_artist=True,\n",
    "        boxprops=dict(facecolor=color, color='black'),\n",
    "        medianprops=dict(color='black'),\n",
    "        flierprops=dict(markerfacecolor=color, markeredgecolor=color),\n",
    "    )\n",
    "\n",
    "# Create legend\n",
    "legend_patches = [\n",
    "    mpatches.Patch(facecolor=color, edgecolor='black', label=label)\n",
    "    for color, label in zip(colors, labels)\n",
    "]\n",
    "plt.legend(handles=legend_patches, frameon=False)\n",
    "\n",
    "# Axis labels and title\n",
    "plt.ylabel(\"Stability\")\n",
    "plt.xlabel(\"Perturbation Amount\")\n",
    "plt.title(\"Minimal Length Cycle Stability\")\n",
    "\n",
    "# Hide unnecessary spines and set ticks\n",
    "ax = plt.gca()\n",
    "ax.spines[['right', 'top']].set_visible(False)\n",
    "plt.xticks(positions, x_axis)\n",
    "\n",
    "# Show the plot\n",
    "plt.tight_layout()\n",
    "plt.savefig(\"Figures/stability.png\")\n",
    "plt.show()\n"
   ]
  },
  {
   "cell_type": "code",
   "execution_count": 182,
   "id": "c43450ab-10c3-4f64-86c3-39956988273e",
   "metadata": {},
   "outputs": [],
   "source": [
    "df.to_csv(\"stability_secondrun.csv\")"
   ]
  }
 ],
 "metadata": {
  "kernelspec": {
   "display_name": "Python 3 (ipykernel)",
   "language": "python",
   "name": "python3"
  },
  "language_info": {
   "codemirror_mode": {
    "name": "ipython",
    "version": 3
   },
   "file_extension": ".py",
   "mimetype": "text/x-python",
   "name": "python",
   "nbconvert_exporter": "python",
   "pygments_lexer": "ipython3",
   "version": "3.12.7"
  }
 },
 "nbformat": 4,
 "nbformat_minor": 5
}
